{
 "cells": [
  {
   "cell_type": "code",
   "id": "initial_id",
   "metadata": {
    "collapsed": true,
    "ExecuteTime": {
     "end_time": "2024-08-13T16:06:50.768229Z",
     "start_time": "2024-08-13T16:06:50.758663Z"
    }
   },
   "source": [
    "import torch.nn as nn\n",
    "import torch"
   ],
   "outputs": [],
   "execution_count": 6
  },
  {
   "metadata": {
    "ExecuteTime": {
     "end_time": "2024-08-13T16:05:28.312050Z",
     "start_time": "2024-08-13T16:05:28.280562Z"
    }
   },
   "cell_type": "code",
   "source": [
    "emb1 = nn.Embedding(2,2)\n",
    "emb2 = nn.Embedding(2,2)"
   ],
   "id": "6d60a432ff8b421a",
   "outputs": [],
   "execution_count": 2
  },
  {
   "metadata": {
    "ExecuteTime": {
     "end_time": "2024-08-13T16:05:33.120069Z",
     "start_time": "2024-08-13T16:05:33.104485Z"
    }
   },
   "cell_type": "code",
   "source": "emb1.weight",
   "id": "396614b7936a1090",
   "outputs": [
    {
     "data": {
      "text/plain": [
       "Parameter containing:\n",
       "tensor([[ 0.0745, -0.2656],\n",
       "        [ 2.0636,  0.1522]], requires_grad=True)"
      ]
     },
     "execution_count": 3,
     "metadata": {},
     "output_type": "execute_result"
    }
   ],
   "execution_count": 3
  },
  {
   "metadata": {
    "ExecuteTime": {
     "end_time": "2024-08-13T16:05:53.928097Z",
     "start_time": "2024-08-13T16:05:53.908537Z"
    }
   },
   "cell_type": "code",
   "source": "emb2.weight",
   "id": "25179b9688fc4316",
   "outputs": [
    {
     "data": {
      "text/plain": [
       "Parameter containing:\n",
       "tensor([[-0.7435, -0.5083],\n",
       "        [ 0.9306,  0.0637]], requires_grad=True)"
      ]
     },
     "execution_count": 4,
     "metadata": {},
     "output_type": "execute_result"
    }
   ],
   "execution_count": 4
  },
  {
   "metadata": {
    "ExecuteTime": {
     "end_time": "2024-08-13T16:06:28.952212Z",
     "start_time": "2024-08-13T16:06:28.947723Z"
    }
   },
   "cell_type": "code",
   "source": "token_shift = 58888",
   "id": "326653ad48f81d67",
   "outputs": [],
   "execution_count": 5
  },
  {
   "metadata": {
    "ExecuteTime": {
     "end_time": "2024-08-13T16:07:24.180056Z",
     "start_time": "2024-08-13T16:07:24.171340Z"
    }
   },
   "cell_type": "code",
   "source": "input_ids = torch.tensor([1,0,token_shift+0,token_shift+0])",
   "id": "48d803d6f2213cc3",
   "outputs": [],
   "execution_count": 7
  },
  {
   "metadata": {
    "ExecuteTime": {
     "end_time": "2024-08-13T16:09:03.368054Z",
     "start_time": "2024-08-13T16:09:03.357183Z"
    }
   },
   "cell_type": "code",
   "source": "emb1_mask = torch.tensor([input_id - token_shift < 0 for input_id in input_ids])",
   "id": "1a2e4e3badfacd3a",
   "outputs": [],
   "execution_count": 8
  },
  {
   "metadata": {
    "ExecuteTime": {
     "end_time": "2024-08-13T16:09:11.824104Z",
     "start_time": "2024-08-13T16:09:11.805939Z"
    }
   },
   "cell_type": "code",
   "source": "emb1_mask",
   "id": "a74bd741bef98364",
   "outputs": [
    {
     "data": {
      "text/plain": [
       "tensor([ True,  True, False, False])"
      ]
     },
     "execution_count": 9,
     "metadata": {},
     "output_type": "execute_result"
    }
   ],
   "execution_count": 9
  },
  {
   "metadata": {
    "ExecuteTime": {
     "end_time": "2024-08-13T16:10:52.148233Z",
     "start_time": "2024-08-13T16:10:52.139273Z"
    }
   },
   "cell_type": "code",
   "source": [
    "ind_emb1 = torch.where(emb1_mask, input_ids, torch.zeros_like(input_ids))\n",
    "ind_emb2 = torch.where(~emb1_mask, input_ids - token_shift, torch.zeros_like(input_ids))"
   ],
   "id": "428cf21187eec352",
   "outputs": [],
   "execution_count": 13
  },
  {
   "metadata": {
    "ExecuteTime": {
     "end_time": "2024-08-13T16:10:52.876087Z",
     "start_time": "2024-08-13T16:10:52.855152Z"
    }
   },
   "cell_type": "code",
   "source": "ind_emb1",
   "id": "bdb1f64bf8ebf238",
   "outputs": [
    {
     "data": {
      "text/plain": [
       "tensor([1, 0, 0, 0])"
      ]
     },
     "execution_count": 14,
     "metadata": {},
     "output_type": "execute_result"
    }
   ],
   "execution_count": 14
  },
  {
   "metadata": {
    "ExecuteTime": {
     "end_time": "2024-08-13T16:10:53.344019Z",
     "start_time": "2024-08-13T16:10:53.335213Z"
    }
   },
   "cell_type": "code",
   "source": "ind_emb2",
   "id": "60627ab889343168",
   "outputs": [
    {
     "data": {
      "text/plain": [
       "tensor([0, 0, 0, 0])"
      ]
     },
     "execution_count": 15,
     "metadata": {},
     "output_type": "execute_result"
    }
   ],
   "execution_count": 15
  },
  {
   "metadata": {
    "ExecuteTime": {
     "end_time": "2024-08-13T16:11:47.768044Z",
     "start_time": "2024-08-13T16:11:47.755245Z"
    }
   },
   "cell_type": "code",
   "source": [
    "emb_arr1 = emb1(ind_emb1)\n",
    "emb_arr2 = emb2(ind_emb2)"
   ],
   "id": "42d7fa8f950dbe73",
   "outputs": [],
   "execution_count": 16
  },
  {
   "metadata": {
    "ExecuteTime": {
     "end_time": "2024-08-13T16:11:50.892057Z",
     "start_time": "2024-08-13T16:11:50.885534Z"
    }
   },
   "cell_type": "code",
   "source": "emb_arr1",
   "id": "5dcb2826a9011d6e",
   "outputs": [
    {
     "data": {
      "text/plain": [
       "tensor([[ 2.0636,  0.1522],\n",
       "        [ 0.0745, -0.2656],\n",
       "        [ 0.0745, -0.2656],\n",
       "        [ 0.0745, -0.2656]], grad_fn=<EmbeddingBackward0>)"
      ]
     },
     "execution_count": 17,
     "metadata": {},
     "output_type": "execute_result"
    }
   ],
   "execution_count": 17
  },
  {
   "metadata": {
    "ExecuteTime": {
     "end_time": "2024-08-13T16:12:06.636048Z",
     "start_time": "2024-08-13T16:12:06.621733Z"
    }
   },
   "cell_type": "code",
   "source": "emb_arr2",
   "id": "6198ef86707af541",
   "outputs": [
    {
     "data": {
      "text/plain": [
       "tensor([[-0.7435, -0.5083],\n",
       "        [-0.7435, -0.5083],\n",
       "        [-0.7435, -0.5083],\n",
       "        [-0.7435, -0.5083]], grad_fn=<EmbeddingBackward0>)"
      ]
     },
     "execution_count": 20,
     "metadata": {},
     "output_type": "execute_result"
    }
   ],
   "execution_count": 20
  },
  {
   "metadata": {
    "ExecuteTime": {
     "end_time": "2024-08-13T16:13:14.752011Z",
     "start_time": "2024-08-13T16:13:14.746592Z"
    }
   },
   "cell_type": "code",
   "source": [
    "res = torch.where(emb1_mask.unsqueeze(-1), emb_arr1, emb_arr2)\n",
    "res"
   ],
   "id": "350a63d36bae255c",
   "outputs": [
    {
     "data": {
      "text/plain": [
       "tensor([[ 2.0636,  0.1522],\n",
       "        [ 0.0745, -0.2656],\n",
       "        [-0.7435, -0.5083],\n",
       "        [-0.7435, -0.5083]], grad_fn=<WhereBackward0>)"
      ]
     },
     "execution_count": 21,
     "metadata": {},
     "output_type": "execute_result"
    }
   ],
   "execution_count": 21
  },
  {
   "metadata": {},
   "cell_type": "code",
   "outputs": [],
   "execution_count": null,
   "source": "",
   "id": "78b851bdd7c47cbf"
  }
 ],
 "metadata": {
  "kernelspec": {
   "display_name": "Python 3",
   "language": "python",
   "name": "python3"
  },
  "language_info": {
   "codemirror_mode": {
    "name": "ipython",
    "version": 2
   },
   "file_extension": ".py",
   "mimetype": "text/x-python",
   "name": "python",
   "nbconvert_exporter": "python",
   "pygments_lexer": "ipython2",
   "version": "2.7.6"
  }
 },
 "nbformat": 4,
 "nbformat_minor": 5
}
